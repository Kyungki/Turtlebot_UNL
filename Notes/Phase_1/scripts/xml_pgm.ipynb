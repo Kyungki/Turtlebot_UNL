{
 "cells": [
  {
   "cell_type": "code",
   "execution_count": 2,
   "metadata": {
    "collapsed": true
   },
   "outputs": [],
   "source": [
    "import os\n",
    "import xml.etree.ElementTree as ET\n",
    "\n",
    "import numpy as np\n",
    "\n",
    "import matplotlib\n",
    "matplotlib.use(\"agg\")"
   ]
  },
  {
   "cell_type": "code",
   "execution_count": 3,
   "metadata": {
    "collapsed": true
   },
   "outputs": [],
   "source": [
    "xml_data = 'simple_wall_geom.xml'\n",
    "name, _ = os.path.splitext(xml_data)"
   ]
  },
  {
   "cell_type": "code",
   "execution_count": 4,
   "metadata": {
    "collapsed": true
   },
   "outputs": [],
   "source": [
    "with open(xml_data, 'rt') as f:\n",
    "    tree = ET.parse(f)"
   ]
  },
  {
   "cell_type": "code",
   "execution_count": 28,
   "metadata": {},
   "outputs": [],
   "source": [
    "walls = []\n",
    "for wall in tree.getroot():\n",
    "    w = dict()\n",
    "    w['ID'] = wall.find(\"ID\").text\n",
    "    w['type'] = wall.find(\"type\").text\n",
    "    w['height'] = wall.find(\"height\").text \n",
    "    polygon = wall.find(\"polygon\")\n",
    "    points = polygon.findall(\"point\")\n",
    "    w['polygon'] = np.empty((len(points),3))\n",
    "    for i, point in enumerate(points):\n",
    "        w['polygon'][i] = [point.find(p).text for p in [\"X\",\"Y\",\"Z\"]]\n",
    "    walls.append(w)"
   ]
  },
  {
   "cell_type": "code",
   "execution_count": 29,
   "metadata": {},
   "outputs": [
    {
     "data": {
      "text/html": [
       "<div>\n",
       "<table border=\"1\" class=\"dataframe\">\n",
       "  <thead>\n",
       "    <tr style=\"text-align: right;\">\n",
       "      <th></th>\n",
       "      <th>ID</th>\n",
       "      <th>height</th>\n",
       "      <th>polygon</th>\n",
       "      <th>type</th>\n",
       "    </tr>\n",
       "  </thead>\n",
       "  <tbody>\n",
       "    <tr>\n",
       "      <th>0</th>\n",
       "      <td>163917</td>\n",
       "      <td>42.666666666648</td>\n",
       "      <td>[[-133.129758023, -316.634077957, 0.0], [-133....</td>\n",
       "      <td>Exterior - S6 - Brick 2</td>\n",
       "    </tr>\n",
       "    <tr>\n",
       "      <th>1</th>\n",
       "      <td>163918</td>\n",
       "      <td>42.666666666648</td>\n",
       "      <td>[[-133.129758023, -292.613244624, 0.0], [-149....</td>\n",
       "      <td>Exterior - S6 - Brick 2</td>\n",
       "    </tr>\n",
       "    <tr>\n",
       "      <th>2</th>\n",
       "      <td>163919</td>\n",
       "      <td>42.666666666648</td>\n",
       "      <td>[[-149.525591357, -292.613244624, 0.0], [-149....</td>\n",
       "      <td>Exterior - S6 - Brick 2</td>\n",
       "    </tr>\n",
       "    <tr>\n",
       "      <th>3</th>\n",
       "      <td>163921</td>\n",
       "      <td>42.666666666648</td>\n",
       "      <td>[[-53.29642469, -273.446862558, 0.0], [-53.296...</td>\n",
       "      <td>Exterior - S6 - Brick 2</td>\n",
       "    </tr>\n",
       "    <tr>\n",
       "      <th>4</th>\n",
       "      <td>163922</td>\n",
       "      <td>42.666666666648</td>\n",
       "      <td>[[-53.29642469, -292.613570145, 0.0], [-71.629...</td>\n",
       "      <td>Exterior - S6 - Brick 2</td>\n",
       "    </tr>\n",
       "  </tbody>\n",
       "</table>\n",
       "</div>"
      ],
      "text/plain": [
       "       ID           height                                            polygon  \\\n",
       "0  163917  42.666666666648  [[-133.129758023, -316.634077957, 0.0], [-133....   \n",
       "1  163918  42.666666666648  [[-133.129758023, -292.613244624, 0.0], [-149....   \n",
       "2  163919  42.666666666648  [[-149.525591357, -292.613244624, 0.0], [-149....   \n",
       "3  163921  42.666666666648  [[-53.29642469, -273.446862558, 0.0], [-53.296...   \n",
       "4  163922  42.666666666648  [[-53.29642469, -292.613570145, 0.0], [-71.629...   \n",
       "\n",
       "                      type  \n",
       "0  Exterior - S6 - Brick 2  \n",
       "1  Exterior - S6 - Brick 2  \n",
       "2  Exterior - S6 - Brick 2  \n",
       "3  Exterior - S6 - Brick 2  \n",
       "4  Exterior - S6 - Brick 2  "
      ]
     },
     "execution_count": 29,
     "metadata": {},
     "output_type": "execute_result"
    }
   ],
   "source": [
    "#just to see what's in xml\n",
    "import pandas as pd\n",
    "df = pd.DataFrame(walls)\n",
    "df.head()"
   ]
  },
  {
   "cell_type": "code",
   "execution_count": 51,
   "metadata": {},
   "outputs": [
    {
     "data": {
      "image/png": "[encoded data removed]",
      "text/plain": [
       "<matplotlib.figure.Figure at 0x1137e9198>"
      ]
     },
     "metadata": {},
     "output_type": "display_data"
    }
   ],
   "source": [
    "%matplotlib inline\n",
    "import matplotlib.pyplot as plt\n",
    "import matplotlib.patches as mpatches\n",
    "import matplotlib.collections as mcollections\n",
    "\n",
    "#mess with figsize to figure out resolution\n",
    "fig, ax = plt.subplots()\n",
    "\n",
    "#for wall_type in df['type'].unique():\n",
    "#    walls = df[df['type'] == wall_type]\n",
    "for xyz in df['polygon']:\n",
    "    ax.fill(xyz[:,0], xyz[:,1], color='k')\n",
    "\n",
    "ax.axis('off')\n",
    "fig.tight_layout(pad=0)"
   ]
  },
  {
   "cell_type": "code",
   "execution_count": 52,
   "metadata": {
    "collapsed": true
   },
   "outputs": [],
   "source": [
    "fig.canvas.draw()\n",
    "tab = fig.canvas.copy_from_bbox(fig.bbox).to_string_argb()\n",
    "ncols, nrows = fig.canvas.get_width_height()\n",
    "data = np.fromstring(tab, dtype = np.uint8).reshape(nrows, ncols, 4)"
   ]
  },
  {
   "cell_type": "code",
   "execution_count": 53,
   "metadata": {},
   "outputs": [],
   "source": [
    "\n",
    "from PIL import Image"
   ]
  },
  {
   "cell_type": "code",
   "execution_count": 54,
   "metadata": {
    "collapsed": true
   },
   "outputs": [],
   "source": [
    "im = Image.fromarray(data)\n",
    "im.save(\"{}.pgm\".format(name))"
   ]
  },
  {
   "cell_type": "code",
   "execution_count": 62,
   "metadata": {},
   "outputs": [],
   "source": [
    "walls = []\n",
    "for wall in tree.getroot():\n",
    "    points = wall.find(\"polygon\").findall(\"point\")\n",
    "    wall = np.empty((len(points),2))\n",
    "    for i, point in enumerate(points):\n",
    "        wall[i] = [point.find(\"X\").text, point.find(\"Y\").text] \n",
    "    walls.append(wall)"
   ]
  },
  {
   "cell_type": "code",
   "execution_count": 65,
   "metadata": {},
   "outputs": [
    {
     "data": {
      "image/png": "[encoded data removed]",
      "text/plain": [
       "<matplotlib.figure.Figure at 0x1215dfe10>"
      ]
     },
     "metadata": {},
     "output_type": "display_data"
    }
   ],
   "source": [
    "fig, ax = plt.subplots()\n",
    "\n",
    "for wall in walls :\n",
    "    ax.fill(wall[:,0], wall[:,1], color='k')\n",
    "\n",
    "ax.axis('off')\n",
    "fig.tight_layout(pad=0)"
   ]
  },
  {
   "cell_type": "code",
   "execution_count": 66,
   "metadata": {
    "collapsed": true
   },
   "outputs": [],
   "source": [
    "fig.canvas.draw()\n",
    "tab = fig.canvas.copy_from_bbox(fig.bbox).to_string_argb()\n",
    "ncols, nrows = fig.canvas.get_width_height()\n",
    "data = np.fromstring(tab, dtype = np.uint8).reshape(nrows, ncols, 4)"
   ]
  },
  {
   "cell_type": "code",
   "execution_count": 67,
   "metadata": {
    "collapsed": true
   },
   "outputs": [],
   "source": [
    "im = Image.fromarray(data)\n",
    "im.save(\"{}.pgm\".format(name))"
   ]
  },
  {
   "cell_type": "code",
   "execution_count": null,
   "metadata": {
    "collapsed": true
   },
   "outputs": [],
   "source": []
  }
 ],
 "metadata": {
  "kernelspec": {
   "display_name": "Python 3",
   "language": "python",
   "name": "python3"
  },
  "language_info": {
   "codemirror_mode": {
    "name": "ipython",
    "version": 3
   },
   "file_extension": ".py",
   "mimetype": "text/x-python",
   "name": "python",
   "nbconvert_exporter": "python",
   "pygments_lexer": "ipython3",
   "version": "3.6.1"
  }
 },
 "nbformat": 4,
 "nbformat_minor": 2
}
