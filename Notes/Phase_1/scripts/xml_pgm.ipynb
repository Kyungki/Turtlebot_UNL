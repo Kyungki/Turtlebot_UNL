{
 "cells": [
  {
   "cell_type": "code",
   "execution_count": 65,
   "metadata": {},
   "outputs": [],
   "source": [
    "import xml.etree.ElementTree as ET\n",
    "from collections import defaultdict"
   ]
  },
  {
   "cell_type": "code",
   "execution_count": 66,
   "metadata": {},
   "outputs": [],
   "source": [
    "xml_data = 'simple_wall_geom.xml'"
   ]
  },
  {
   "cell_type": "code",
   "execution_count": 67,
   "metadata": {},
   "outputs": [],
   "source": [
    "with open(xml_data, 'rt') as f:\n",
    "    tree = ET.parse(f)"
   ]
  },
  {
   "cell_type": "code",
   "execution_count": 73,
   "metadata": {},
   "outputs": [],
   "source": [
    "walls = []\n",
    "for wall in tree.getroot():\n",
    "    w = dict()\n",
    "    w['ID'] = wall.find(\"ID\").text\n",
    "    w['type'] = wall.find(\"type\").text\n",
    "    w['height'] = wall.find(\"height\").text \n",
    "    polygon = wall.find(\"polygon\")\n",
    "    points = polygon.findall(\"point\")\n",
    "    w[]\n",
    "    for i, point in enumerate(points):\n",
    "        p = dict()\n",
    "        p[\"X\"] = point.find(\"X\").text\n",
    "        p[\"Y\"] = point.find(\"Y\").text\n",
    "        p[\"Z\"] = point.find(\"X\").text\n",
    "        w['point_{}'.format(i+1)] = p\n",
    "    walls.append(w)"
   ]
  },
  {
   "cell_type": "code",
   "execution_count": null,
   "metadata": {
    "collapsed": true
   },
   "outputs": [],
   "source": []
  }
 ],
 "metadata": {
  "kernelspec": {
   "display_name": "Python 3",
   "language": "python",
   "name": "python3"
  },
  "language_info": {
   "codemirror_mode": {
    "name": "ipython",
    "version": 3
   },
   "file_extension": ".py",
   "mimetype": "text/x-python",
   "name": "python",
   "nbconvert_exporter": "python",
   "pygments_lexer": "ipython3",
   "version": "3.6.1"
  }
 },
 "nbformat": 4,
 "nbformat_minor": 2
}
