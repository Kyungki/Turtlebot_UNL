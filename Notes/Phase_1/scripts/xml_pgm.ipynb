{
 "cells": [
  {
   "cell_type": "code",
   "execution_count": 142,
   "metadata": {},
   "outputs": [],
   "source": [
    "import xml.etree.ElementTree as ET\n",
    "from collections import defaultdict"
   ]
  },
  {
   "cell_type": "code",
   "execution_count": 143,
   "metadata": {},
   "outputs": [],
   "source": [
    "xml_data = 'simple_wall_geom.xml'"
   ]
  },
  {
   "cell_type": "code",
   "execution_count": 82,
   "metadata": {},
   "outputs": [],
   "source": [
    "with open(xml_data, 'rt') as f:\n",
    "    tree = ET.parse(f)"
   ]
  },
  {
   "cell_type": "code",
   "execution_count": 139,
   "metadata": {},
   "outputs": [],
   "source": [
    "walls = []\n",
    "for wall in tree.getroot():\n",
    "    w = dict()\n",
    "    w['ID'] = wall.find(\"ID\").text\n",
    "    w['type'] = wall.find(\"type\").text\n",
    "    w['height'] = wall.find(\"height\").text \n",
    "    polygon = wall.find(\"polygon\")\n",
    "    points = polygon.findall(\"point\")\n",
    "    w['polygon'] = []\n",
    "    for i, point in enumerate(points):\n",
    "        pt = dict()\n",
    "        for p in [\"X\", \"Y\", \"Z\"]:\n",
    "            pt[p] = point.find(p).text\n",
    "        w['polygon'].append(pt)\n",
    "    walls.append(w)"
   ]
  },
  {
   "cell_type": "code",
   "execution_count": 140,
   "metadata": {},
   "outputs": [
    {
     "data": {
      "text/html": [
       "<div>\n",
       "<table border=\"1\" class=\"dataframe\">\n",
       "  <thead>\n",
       "    <tr style=\"text-align: right;\">\n",
       "      <th></th>\n",
       "      <th>ID</th>\n",
       "      <th>height</th>\n",
       "      <th>polygon</th>\n",
       "      <th>type</th>\n",
       "    </tr>\n",
       "  </thead>\n",
       "  <tbody>\n",
       "    <tr>\n",
       "      <th>0</th>\n",
       "      <td>163917</td>\n",
       "      <td>42.666666666648</td>\n",
       "      <td>[{'X': '-133.129758023355', 'Y': '-316.6340779...</td>\n",
       "      <td>Exterior - S6 - Brick 2</td>\n",
       "    </tr>\n",
       "    <tr>\n",
       "      <th>1</th>\n",
       "      <td>163918</td>\n",
       "      <td>42.666666666648</td>\n",
       "      <td>[{'X': '-133.129758023354', 'Y': '-292.6132446...</td>\n",
       "      <td>Exterior - S6 - Brick 2</td>\n",
       "    </tr>\n",
       "    <tr>\n",
       "      <th>2</th>\n",
       "      <td>163919</td>\n",
       "      <td>42.666666666648</td>\n",
       "      <td>[{'X': '-149.525591356685', 'Y': '-292.6132446...</td>\n",
       "      <td>Exterior - S6 - Brick 2</td>\n",
       "    </tr>\n",
       "    <tr>\n",
       "      <th>3</th>\n",
       "      <td>163921</td>\n",
       "      <td>42.666666666648</td>\n",
       "      <td>[{'X': '-53.2964246900125', 'Y': '-273.4468625...</td>\n",
       "      <td>Exterior - S6 - Brick 2</td>\n",
       "    </tr>\n",
       "    <tr>\n",
       "      <th>4</th>\n",
       "      <td>163922</td>\n",
       "      <td>42.666666666648</td>\n",
       "      <td>[{'X': '-53.2964246900126', 'Y': '-292.6135701...</td>\n",
       "      <td>Exterior - S6 - Brick 2</td>\n",
       "    </tr>\n",
       "  </tbody>\n",
       "</table>\n",
       "</div>"
      ],
      "text/plain": [
       "       ID           height                                            polygon  \\\n",
       "0  163917  42.666666666648  [{'X': '-133.129758023355', 'Y': '-316.6340779...   \n",
       "1  163918  42.666666666648  [{'X': '-133.129758023354', 'Y': '-292.6132446...   \n",
       "2  163919  42.666666666648  [{'X': '-149.525591356685', 'Y': '-292.6132446...   \n",
       "3  163921  42.666666666648  [{'X': '-53.2964246900125', 'Y': '-273.4468625...   \n",
       "4  163922  42.666666666648  [{'X': '-53.2964246900126', 'Y': '-292.6135701...   \n",
       "\n",
       "                      type  \n",
       "0  Exterior - S6 - Brick 2  \n",
       "1  Exterior - S6 - Brick 2  \n",
       "2  Exterior - S6 - Brick 2  \n",
       "3  Exterior - S6 - Brick 2  \n",
       "4  Exterior - S6 - Brick 2  "
      ]
     },
     "execution_count": 140,
     "metadata": {},
     "output_type": "execute_result"
    }
   ],
   "source": [
    "#just to see what's in xml\n",
    "import pandas as pd\n",
    "df = pd.DataFrame(walls)\n",
    "df.head()"
   ]
  },
  {
   "cell_type": "code",
   "execution_count": null,
   "metadata": {
    "collapsed": true
   },
   "outputs": [],
   "source": []
  }
 ],
 "metadata": {
  "kernelspec": {
   "display_name": "Python 3",
   "language": "python",
   "name": "python3"
  },
  "language_info": {
   "codemirror_mode": {
    "name": "ipython",
    "version": 3
   },
   "file_extension": ".py",
   "mimetype": "text/x-python",
   "name": "python",
   "nbconvert_exporter": "python",
   "pygments_lexer": "ipython3",
   "version": "3.6.1"
  }
 },
 "nbformat": 4,
 "nbformat_minor": 2
}
